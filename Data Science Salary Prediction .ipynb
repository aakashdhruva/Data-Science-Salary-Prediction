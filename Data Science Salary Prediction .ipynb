{
 "cells": [
  {
   "cell_type": "code",
   "execution_count": null,
   "metadata": {},
   "outputs": [],
   "source": [
    "import pandas as pd\n",
    "import numpy as np\n",
    "import seaborn as sns\n",
    "import matplotlib.pyplot as plt\n",
    "\n",
    "%matplotlib inline\n"
   ]
  },
  {
   "cell_type": "markdown",
   "metadata": {},
   "source": [
    "# Data cleaning"
   ]
  },
  {
   "cell_type": "code",
   "execution_count": null,
   "metadata": {},
   "outputs": [],
   "source": [
    "df_countries = pd.read_csv('df_countries_2.csv', sep=';')"
   ]
  },
  {
   "cell_type": "code",
   "execution_count": null,
   "metadata": {},
   "outputs": [],
   "source": [
    "df_countries"
   ]
  },
  {
   "cell_type": "code",
   "execution_count": null,
   "metadata": {},
   "outputs": [],
   "source": [
    "experience_level_map = {\n",
    "    'EN': '1. Entry_level',\n",
    "    'MI': '2. Mid_Intermediate_level',\n",
    "    'SE': '3. Senior_level',\n",
    "    'EX': '4. Executive_level'\n",
    "}\n",
    "\n",
    "employment_type_map = {\n",
    "    'CT': 'Contractual',\n",
    "    'FL': 'Freelancer',\n",
    "    'FT': 'Full_Time',\n",
    "    'PT': 'Part_Time'\n",
    "}\n"
   ]
  },
  {
   "cell_type": "code",
   "execution_count": null,
   "metadata": {},
   "outputs": [],
   "source": [
    "df_salaries = pd.read_csv('ds_salaries.csv')"
   ]
  },
  {
   "cell_type": "code",
   "execution_count": null,
   "metadata": {},
   "outputs": [],
   "source": [
    "df_salaries.experience_level.value_counts()"
   ]
  },
  {
   "cell_type": "code",
   "execution_count": null,
   "metadata": {},
   "outputs": [],
   "source": [
    "df_salaries.salary_in_usd.describe()"
   ]
  },
  {
   "cell_type": "code",
   "execution_count": null,
   "metadata": {},
   "outputs": [],
   "source": [
    "df_salaries.columns"
   ]
  },
  {
   "cell_type": "code",
   "execution_count": null,
   "metadata": {},
   "outputs": [],
   "source": [
    "\n",
    "\n",
    "df_salaries = df_salaries.merge(df_countries[['alpha_2_code','country']],how = 'left', left_on = 'employee_residence', right_on = 'alpha_2_code', suffixes=('','_employee_residence'))\n",
    "df_salaries = df_salaries.merge(df_countries[['alpha_2_code','country']],how = 'left', left_on = 'company_location', right_on = 'alpha_2_code', suffixes=('','_company_location'))\n",
    "df_salaries = df_salaries.drop(columns=['alpha_2_code','alpha_2_code_company_location','employee_residence','company_location'])\n",
    "\n",
    "df_salaries = df_salaries.rename(columns= {'country':'country_employee_residence'})\n",
    "\n",
    "df_salaries['experience_level'] = df_salaries['experience_level'].apply(lambda x: experience_level_map[x])\n",
    "df_salaries['employment_type'] = df_salaries['employment_type'].apply(lambda x: employment_type_map[x])\n"
   ]
  },
  {
   "cell_type": "code",
   "execution_count": null,
   "metadata": {},
   "outputs": [],
   "source": [
    "df_salaries"
   ]
  },
  {
   "cell_type": "code",
   "execution_count": null,
   "metadata": {},
   "outputs": [],
   "source": [
    "df_salaries.columns"
   ]
  },
  {
   "cell_type": "code",
   "execution_count": null,
   "metadata": {},
   "outputs": [],
   "source": [
    "col = ['job_title', 'salary_currency', 'country_employee_residence', 'country_company_location']"
   ]
  },
  {
   "cell_type": "code",
   "execution_count": null,
   "metadata": {},
   "outputs": [],
   "source": [
    "for c in col:\n",
    "    # Top values in column\n",
    "    li_top = df_salaries[c].value_counts()[:5].index\n",
    "    df_salaries.loc[~df_salaries[c].isin(li_top), c] = 'Others'\n"
   ]
  },
  {
   "cell_type": "code",
   "execution_count": null,
   "metadata": {},
   "outputs": [],
   "source": [
    "df_salaries"
   ]
  },
  {
   "cell_type": "code",
   "execution_count": null,
   "metadata": {},
   "outputs": [],
   "source": [
    "df_salaries.salary_currency.value_counts()"
   ]
  },
  {
   "cell_type": "markdown",
   "metadata": {},
   "source": [
    "# Outliers cleaning"
   ]
  },
  {
   "cell_type": "code",
   "execution_count": null,
   "metadata": {},
   "outputs": [],
   "source": [
    "df_salaries['salary_in_usd'].describe()"
   ]
  },
  {
   "cell_type": "code",
   "execution_count": null,
   "metadata": {},
   "outputs": [],
   "source": [
    "df_salaries['salary_in_usd'].hist()"
   ]
  },
  {
   "cell_type": "code",
   "execution_count": null,
   "metadata": {},
   "outputs": [],
   "source": [
    "Q1 = df_salaries['salary_in_usd'].quantile(0.25)\n",
    "Q3 = df_salaries['salary_in_usd'].quantile(0.75)\n",
    "IQR = Q3 - Q1\n",
    "print('Límite superior: ' + str(Q3 + 2 * IQR))\n",
    "df_salaries['salary_in_usd'] = np.where((df_salaries['salary_in_usd'] < (Q3 + 2 * IQR)), df_salaries['salary_in_usd'], Q3 + 2 * IQR)"
   ]
  },
  {
   "cell_type": "code",
   "execution_count": null,
   "metadata": {},
   "outputs": [],
   "source": [
    "df_salaries['salary_in_usd'].hist()"
   ]
  },
  {
   "cell_type": "code",
   "execution_count": null,
   "metadata": {
    "scrolled": true
   },
   "outputs": [],
   "source": [
    "df_salaries"
   ]
  },
  {
   "cell_type": "code",
   "execution_count": null,
   "metadata": {},
   "outputs": [],
   "source": [
    "df_salaries.to_csv('cleaned_db.csv', index = False)"
   ]
  },
  {
   "cell_type": "markdown",
   "metadata": {},
   "source": [
    "# Exploratory Data Analysis\n",
    "\n"
   ]
  },
  {
   "cell_type": "code",
   "execution_count": null,
   "metadata": {},
   "outputs": [],
   "source": [
    "df = df_salaries"
   ]
  },
  {
   "cell_type": "code",
   "execution_count": null,
   "metadata": {},
   "outputs": [],
   "source": [
    "df.describe()"
   ]
  },
  {
   "cell_type": "code",
   "execution_count": null,
   "metadata": {},
   "outputs": [],
   "source": [
    "df[df['salary_in_usd']<= 750000].salary_in_usd.hist()"
   ]
  },
  {
   "cell_type": "code",
   "execution_count": null,
   "metadata": {},
   "outputs": [],
   "source": [
    "df.remote_ratio.hist()"
   ]
  },
  {
   "cell_type": "code",
   "execution_count": null,
   "metadata": {},
   "outputs": [],
   "source": [
    "# create grouped boxplot \n",
    "sns.boxplot(x = df['remote_ratio'],\n",
    "            y = df['salary_in_usd'])"
   ]
  },
  {
   "cell_type": "code",
   "execution_count": null,
   "metadata": {},
   "outputs": [],
   "source": [
    "df.experience_level.value_counts()"
   ]
  },
  {
   "cell_type": "code",
   "execution_count": null,
   "metadata": {},
   "outputs": [],
   "source": [
    "df.employment_type.value_counts()"
   ]
  },
  {
   "cell_type": "code",
   "execution_count": null,
   "metadata": {},
   "outputs": [],
   "source": [
    "df.job_title.value_counts()[:10].sum()"
   ]
  },
  {
   "cell_type": "code",
   "execution_count": null,
   "metadata": {},
   "outputs": [],
   "source": [
    "# create grouped boxplot \n",
    "sns.boxplot(x = df['company_size'],\n",
    "            y = df['salary_in_usd'])"
   ]
  },
  {
   "cell_type": "code",
   "execution_count": null,
   "metadata": {},
   "outputs": [],
   "source": [
    "# create grouped boxplot \n",
    "sns.boxplot(y = df['job_title'],\n",
    "            x = df['salary_in_usd'],\n",
    "            orient = 'h')"
   ]
  },
  {
   "cell_type": "code",
   "execution_count": null,
   "metadata": {},
   "outputs": [],
   "source": [
    "# create grouped boxplot \n",
    "sns.boxplot(y = df['experience_level'],\n",
    "            x = df['salary_in_usd'],\n",
    "            orient = 'h')"
   ]
  },
  {
   "cell_type": "code",
   "execution_count": null,
   "metadata": {},
   "outputs": [],
   "source": [
    "df.job_title.value_counts()"
   ]
  },
  {
   "cell_type": "code",
   "execution_count": null,
   "metadata": {},
   "outputs": [],
   "source": [
    "list(df.experience_level.value_counts().keys())"
   ]
  },
  {
   "cell_type": "code",
   "execution_count": null,
   "metadata": {},
   "outputs": [],
   "source": [
    "plt.figure(figsize=(12, 8))\n",
    "company_size_order = ['S', 'M', 'L']\n",
    "minimal_palette = sns.color_palette(\"pastel\")\n",
    "sns.barplot(x='company_size', y='salary_in_usd', hue='job_title', data=df_salaries, hue_order=df_salaries['job_title'].unique(), order= company_size_order, palette=minimal_palette)\n",
    "plt.xlabel(\"Company Size\")\n",
    "plt.ylabel(\"Salary (USD)\")\n",
    "plt.title(\"Salary Distribution by Job Title and Company Size\")\n",
    "plt.xticks(rotation=45)\n",
    "plt.tight_layout()\n",
    "plt.show()"
   ]
  },
  {
   "cell_type": "code",
   "execution_count": null,
   "metadata": {},
   "outputs": [],
   "source": [
    "# Extract the \"job title\" column\n",
    "job_titles = df_salaries['job_title']\n",
    "\n",
    "# Calculate the frequency of each job title\n",
    "title_counts = job_titles.value_counts()\n",
    "\n",
    "# Extract the top 20 most frequent job titles\n",
    "top_20_titles = title_counts.head(20)\n",
    "\n",
    "# Create a DataFrame for the top 20 titles\n",
    "top_20_df = pd.DataFrame({'Job Title': top_20_titles.index, 'Count': top_20_titles.values})\n",
    "\n",
    "# Plotting the count plot\n",
    "plt.figure(figsize=(12, 6))\n",
    "ax = sns.barplot(data=top_20_df, x='Count', y='Job Title', palette=\"Pastel1\")\n",
    "plt.xlabel('Count')\n",
    "plt.ylabel('Job Titles')\n",
    "plt.title('Top 20 Most Frequent Job Titles')\n",
    "\n",
    "# Add count labels to the bars\n",
    "for i, v in enumerate(top_20_df['Count']):\n",
    "    ax.text(v + 0.2, i, str(v), color='blue', va='center')\n",
    "\n",
    "plt.tight_layout()\n",
    "plt.show()"
   ]
  },
  {
   "cell_type": "code",
   "execution_count": null,
   "metadata": {},
   "outputs": [],
   "source": [
    "\n",
    "\n",
    "# Assuming you have loaded the DataFrame 'df_salaries' already\n",
    "\n",
    "# Create a categorical color map for the combinations of 'Job Title' and 'Work Year'\n",
    "color_map = sns.color_palette('Paired', n_colors=len(df_salaries['job_title'].unique()) * len(df_salaries['work_year'].unique()))\n",
    "\n",
    "# Group by 'job_title' and 'work_year' and calculate the mean salary\n",
    "grouped_data = df_salaries.groupby(['job_title', 'work_year'])['salary_in_usd'].mean().sort_values(ascending=False)\n",
    "\n",
    "# Plot the bar chart\n",
    "plt.bar(range(len(grouped_data)), grouped_data.values, color=color_map)\n",
    "plt.xlabel(\"Job Title, Work Year\")\n",
    "plt.ylabel(\"Mean Salary\")\n",
    "plt.title(\"Mean Salary by Job Title and Work Year\")\n",
    "plt.xticks(range(len(grouped_data)), grouped_data.index, rotation=90)  # Set the x-axis ticks and labels\n",
    "plt.rcParams['figure.figsize'] = [10, 5]\n",
    "plt.show()\n"
   ]
  },
  {
   "cell_type": "code",
   "execution_count": null,
   "metadata": {},
   "outputs": [],
   "source": [
    "# Create a categorical color map for the combinations of 'Job Title'\n",
    "color_map = sns.color_palette('Paired', n_colors=len(df_salaries['job_title'].unique()))\n",
    "\n",
    "# Group by 'job_title' and 'work_year' and calculate the mean salary\n",
    "grouped_data = df_salaries.groupby(['job_title', 'work_year'])['salary_in_usd'].mean().reset_index()\n",
    "\n",
    "# Filter out specific work years from the grouped_data\n",
    "excluded_work_years = [2020.5, 2021.5, 2022.5]\n",
    "grouped_data = grouped_data[~grouped_data['work_year'].isin(excluded_work_years)]\n",
    "\n",
    "# Plot the line chart with 'Job Title' as colors and 'Work Year' on the x-axis\n",
    "plt.figure(figsize=(10, 5))\n",
    "sns.lineplot(data=grouped_data, x='work_year', y='salary_in_usd', hue='job_title', palette=color_map)\n",
    "\n",
    "plt.xlabel(\"Work Year\")\n",
    "plt.ylabel(\"Mean Salary\")\n",
    "plt.title(\"Mean Salary by Job Title and Work Year\")\n",
    "plt.xticks(rotation=90)  # Rotate x-axis labels for better visibility\n",
    "\n",
    "# Place the legend on the right side\n",
    "plt.legend(loc='center left', bbox_to_anchor=(1, 0.5), title='Job Title', framealpha=0.5)\n",
    "\n",
    "plt.tight_layout()\n",
    "plt.show()\n"
   ]
  },
  {
   "cell_type": "code",
   "execution_count": null,
   "metadata": {},
   "outputs": [],
   "source": [
    "\n",
    "df=pd.read_csv('cleaned_db.csv')\n",
    "df.head()\n",
    "import seaborn as sns\n",
    "import matplotlib.pyplot as plt\n",
    "##EDA Chart 2\n",
    "##Get top 5 countries with the highest average salary (all years)\n",
    "average_salary_by_country=df.groupby('country_employee_residence')['salary_in_usd'].mean()\n",
    "average_salary_by_country_df=pd.DataFrame({'country_employee_residence':average_salary_by_country.index,'average_salary_in_usd':average_salary_by_country.values})\n",
    "average_salary_by_country_df=average_salary_by_country_df.sort_values(by='average_salary_in_usd',ascending=False)\n",
    "top_3_countries=average_salary_by_country_df.head(3)\n",
    "plt.figure(figsize=(15, 6))  # Adjust the figure size if needed\n",
    "for country in top_3_countries['country_employee_residence']:\n",
    "    country_data = df[df['country_employee_residence'] == country]\n",
    "    average_salary_by_year = country_data.groupby('work_year')['salary_in_usd'].mean().reset_index()\n",
    "    plt.plot(average_salary_by_year['work_year'], average_salary_by_year['salary_in_usd'], marker='o', label=country)\n",
    "plt.xlabel('Year')\n",
    "plt.ylabel('Average Salary (USD)')\n",
    "plt.xticks(average_salary_by_year['work_year'].astype(int))  # Set x-axis ticks as integers (years)\n",
    "plt.title('Top 3 countries : Average Salary Trends',fontsize=20)\n",
    "plt.grid(True)\n",
    "# Move the legend to the side\n",
    "plt.legend(loc='upper left', bbox_to_anchor=(1.05, 1))\n",
    "# Adjust the layout to make room for the legend\n",
    "plt.tight_layout()\n",
    "# Show the plot\n",
    "plt.show()\n",
    "df1=df[df['country_employee_residence'].isin(top_3_countries['country_employee_residence'])]\n",
    "avg_sal_remote=df1.groupby(['country_employee_residence','remote_ratio'])['salary_in_usd'].mean()\n",
    "avg_sal_remote_df = avg_sal_remote.reset_index()\n",
    "# Sort the DataFrame by ‘salary_in_usd’ within each ‘country_employee_residence’ group\n",
    "avg_sal_remote_df_sorted = avg_sal_remote_df.groupby('country_employee_residence', group_keys=False).apply(lambda x: x.sort_values('salary_in_usd', ascending=False))\n",
    "# Plot the stacked bar chart using seaborn\n",
    "plt.figure(figsize=(12,6))\n",
    "sns.barplot(data=avg_sal_remote_df_sorted, x='country_employee_residence', y='salary_in_usd', hue='remote_ratio', palette='viridis')\n",
    "# Set labels and title\n",
    "plt.xlabel('Country')\n",
    "plt.ylabel('Average Salary (USD)')\n",
    "plt.title('Average Salary for Top 3 countries by Remote ratio')\n",
    "# Add a legend\n",
    "plt.legend(title='Remote Ratio', loc='upper left', bbox_to_anchor=(1, 1))\n",
    "# Show the plot\n",
    "plt.tight_layout()\n",
    "plt.show()\n",
    "count_by_remote_ratio_and_experience = df.groupby(['remote_ratio', 'experience_level']).size().reset_index(name='count')\n",
    "total_count_by_ratio = count_by_remote_ratio_and_experience.groupby('remote_ratio')['count'].sum()\n",
    "count_by_remote_ratio_and_experience['percentage'] = count_by_remote_ratio_and_experience.apply(lambda row: round(((row['count'] / total_count_by_ratio[row['remote_ratio']]) * 100),0), axis=1)\n",
    "count_by_remote_ratio_and_experience\n",
    "##Are high level jobs mostly non-remote\n",
    "# Group data by “remote_ratio” and “experience_level,” and calculate the count for each group\n",
    "count_by_remote_ratio_and_experience = df.groupby(['remote_ratio', 'experience_level']).size().reset_index(name='count')\n",
    "count_by_remote_ratio_and_experience['percentage'] = count_by_remote_ratio_and_experience.apply(lambda row: (row['count'] / total_count_by_ratio[row['remote_ratio']]) * 100, axis=1)\n",
    "print(count_by_remote_ratio_and_experience)\n",
    "# Pivot the DataFrame to create a stacked structure\n",
    "df_stacked = count_by_remote_ratio_and_experience.pivot(index='remote_ratio', columns='experience_level', values='percentage')\n",
    "# Sum the percentages to set the correct height for each bar\n",
    "df_stacked = df_stacked.apply(lambda row: row / row.sum() * 100, axis=1)\n",
    "\n",
    "# Create the stacked bar plot using Seaborn\n",
    "plt.figure(figsize=(10, 6))\n",
    "ax = df_stacked.plot(kind='bar', stacked=True, edgecolor='black')\n",
    "# Add percentage labels to each segment of the bars (formatted as integers)\n",
    "for container in ax.containers:\n",
    "    total_height = 0\n",
    "    for value in container:\n",
    "        total_height += value.get_height()\n",
    "    for bar in container:\n",
    "        height = bar.get_height()\n",
    "        percentage = f'{int(height / total_height * 100)}%'\n",
    "        plt.text(bar.get_x() + bar.get_width() / 2, height, percentage, ha='center', va='bottom', fontsize=10)\n",
    "# Customize the plot\n",
    "plt.xlabel('Remote Ratio')\n",
    "plt.ylabel('Percentage')\n",
    "plt.title('Percentage of Applicants by Remote Ratio and Experience Level', fontsize=12)\n",
    "plt.grid(axis='y', linestyle='--')\n",
    "# Move the legend to the side\n",
    "plt.legend(title='Experience Level', bbox_to_anchor=(1.05, 1), loc='upper left')\n",
    "# Show the plot\n",
    "plt.tight_layout()\n",
    "plt.show()\n"
   ]
  },
  {
   "cell_type": "markdown",
   "metadata": {},
   "source": [
    "# One Hot Encoding"
   ]
  },
  {
   "cell_type": "code",
   "execution_count": null,
   "metadata": {},
   "outputs": [],
   "source": [
    "col_encode = ['experience_level', 'employment_type', 'job_title', 'salary_currency', 'company_size', 'country_employee_residence', 'country_company_location']\n",
    "df_salaries = pd.get_dummies(df_salaries, columns=col_encode, drop_first=True)\n",
    "df_salaries.drop(columns='salary',inplace=True)\n",
    "df_salaries.head()"
   ]
  },
  {
   "cell_type": "code",
   "execution_count": null,
   "metadata": {},
   "outputs": [],
   "source": [
    "df_salaries.to_csv('model_db.csv', index = False)"
   ]
  },
  {
   "cell_type": "markdown",
   "metadata": {},
   "source": [
    "# MODEL BUILDING"
   ]
  },
  {
   "cell_type": "code",
   "execution_count": null,
   "metadata": {},
   "outputs": [],
   "source": [
    "import pandas as pd\n",
    "from sklearn.model_selection import cross_val_score, train_test_split\n",
    "import statsmodels.api as sm\n",
    "import math\n",
    "import pandas as pd\n",
    "import seaborn as sns\n",
    "from sklearn.model_selection import cross_val_score, train_test_split\n",
    "from pprint import pprint\n",
    "from sklearn.model_selection import GridSearchCV, RandomizedSearchCV\n",
    "import numpy as np\n",
    "from sklearn.metrics import roc_auc_score, accuracy_score, fbeta_score, r2_score, mean_squared_error\n",
    "from sklearn.metrics import (confusion_matrix, precision_recall_curve, auc,\n",
    "                             roc_curve, recall_score, classification_report, f1_score,\n",
    "                             precision_recall_fscore_support)\n",
    "from sklearn.tree import DecisionTreeClassifier, DecisionTreeRegressor\n",
    "from sklearn.ensemble import RandomForestRegressor, AdaBoostRegressor, GradientBoostingRegressor\n",
    "import matplotlib.pyplot as plt\n",
    "import timeit\n",
    "from IPython.display import Image  \n",
    "from sklearn.tree import export_graphviz\n",
    "from sklearn import linear_model, tree\n",
    "from sklearn.pipeline import Pipeline\n",
    "from sklearn.impute import SimpleImputer\n",
    "from sklearn.preprocessing import StandardScaler, OneHotEncoder\n",
    "from sklearn.linear_model import Ridge, Lasso\n",
    "import warnings\n",
    "from sklearn.preprocessing import LabelEncoder\n",
    "from IPython.display import Image  \n",
    "from sklearn.linear_model import LinearRegression\n",
    "from scipy.stats.stats import pearsonr\n",
    "warnings.filterwarnings('ignore')"
   ]
  },
  {
   "cell_type": "code",
   "execution_count": null,
   "metadata": {},
   "outputs": [],
   "source": [
    "df = pd.read_csv('model_db.csv', sep=',')"
   ]
  },
  {
   "cell_type": "code",
   "execution_count": null,
   "metadata": {},
   "outputs": [],
   "source": [
    "df"
   ]
  },
  {
   "cell_type": "code",
   "execution_count": null,
   "metadata": {},
   "outputs": [],
   "source": [
    "column = df.columns"
   ]
  },
  {
   "cell_type": "code",
   "execution_count": null,
   "metadata": {},
   "outputs": [],
   "source": [
    "X = df.drop(['salary_in_usd'], axis = 1)\n",
    "y = df.salary_in_usd"
   ]
  },
  {
   "cell_type": "code",
   "execution_count": null,
   "metadata": {},
   "outputs": [],
   "source": [
    "y"
   ]
  },
  {
   "cell_type": "code",
   "execution_count": null,
   "metadata": {},
   "outputs": [],
   "source": [
    "df"
   ]
  },
  {
   "cell_type": "code",
   "execution_count": null,
   "metadata": {},
   "outputs": [],
   "source": [
    "x_train,x_test,y_train,y_test=train_test_split(X,y,test_size=0.2,random_state=123)"
   ]
  },
  {
   "cell_type": "code",
   "execution_count": null,
   "metadata": {},
   "outputs": [],
   "source": [
    "x_train"
   ]
  },
  {
   "cell_type": "code",
   "execution_count": null,
   "metadata": {},
   "outputs": [],
   "source": [
    "X.describe()"
   ]
  },
  {
   "cell_type": "markdown",
   "metadata": {},
   "source": [
    "# Grid Search"
   ]
  },
  {
   "cell_type": "code",
   "execution_count": null,
   "metadata": {},
   "outputs": [],
   "source": [
    "\n",
    "#### Random Forest Regressor ####\n",
    "Pipeline_RF=Pipeline(steps=[(\"Scaler\",StandardScaler()),(\"Random Forest\",RandomForestRegressor())])\n",
    "\n",
    "Param_RF = {\n",
    "'Random Forest__max_depth': np.linspace(10, 100, 10, endpoint=True).astype(int),\n",
    "'Random Forest__max_features': np.linspace(5, x_train.shape[1], 10, endpoint=True).astype(int)\n",
    "}\n",
    "\n",
    "Grid_RF = GridSearchCV(estimator=Pipeline_RF, param_grid=Param_RF,scoring='r2',cv=10) \n",
    "\n",
    "#### Ridge Regression ####\n",
    "Pipeline_Ridge=Pipeline(steps=[(\"Scaler\",StandardScaler()),(\"Ridge\", Ridge())])\n",
    "\n",
    "Param_Ridge= {\n",
    "    'Ridge__alpha': np.logspace(-10, 5, 10)\n",
    "}\n",
    "\n",
    "Grid_Ridge = GridSearchCV(estimator=Pipeline_Ridge, param_grid=Param_Ridge,scoring='r2',cv=10)"
   ]
  },
  {
   "cell_type": "code",
   "execution_count": null,
   "metadata": {},
   "outputs": [],
   "source": [
    "grids=[Grid_RF,Grid_Ridge]\n",
    "grid_dict = {0: 'Random Forest',1: 'Ridge'}"
   ]
  },
  {
   "cell_type": "code",
   "execution_count": null,
   "metadata": {},
   "outputs": [],
   "source": [
    "print('Performing model optimizations')\n",
    "best_r2 = 0\n",
    "best_reg = 0\n",
    "best_gs = ''\n",
    "#index=pais[country]\n",
    "#df1=df[df['country']==index]\n",
    "for idx, gs in enumerate(grids):\n",
    "    print('\\nEstimator: %s' % grid_dict[idx])\n",
    "    # Fit grid search\n",
    "    gs.fit(x_train, y_train)\n",
    "    # Best params\n",
    "    print('Best params: %s' % gs.best_params_)\n",
    "    # Best training data accuracy\n",
    "    print('Best training R2: %.3f' % gs.best_score_)\n",
    "    # Predict on test data with best params\n",
    "    y_pred = gs.predict(x_test)\n",
    "    # Test data accuracy of model with best params\n",
    "    print('Test set R2 score for best params: %.3f ' % r2_score(y_test, y_pred))\n",
    "    # Track best (highest test accuracy) model\n",
    "    if r2_score(y_test, y_pred) > best_r2:\n",
    "        best_r2 = r2_score(y_test, y_pred)\n",
    "        best_gs = gs\n",
    "        best_reg = idx\n",
    "print('\\nClassifier with best test set R2 %s' % grid_dict[best_reg])\n",
    "Prueba=best_gs.best_estimator_.fit(x_test,y_test)\n",
    "if best_reg==2 or best_reg==3:\n",
    "    importances=abs(Prueba.named_steps[grid_dict[best_reg]].coef_)\n",
    "else:\n",
    "    importances=Prueba.named_steps[grid_dict[best_reg]].feature_importances_"
   ]
  },
  {
   "cell_type": "markdown",
   "metadata": {},
   "source": [
    "# Different models trained below:"
   ]
  },
  {
   "cell_type": "markdown",
   "metadata": {},
   "source": [
    "# XGBoost and KNN"
   ]
  },
  {
   "cell_type": "code",
   "execution_count": null,
   "metadata": {},
   "outputs": [],
   "source": [
    "%pip install scikit-learn\n",
    "import pandas as pd\n",
    "from sklearn.model_selection import cross_val_score, train_test_split\n",
    "import pandas as pd\n",
    "import seaborn as sns\n",
    "import xgboost as xgb\n",
    "from xgboost.sklearn import XGBClassifier, XGBRegressor\n",
    "from sklearn.neighbors import KNeighborsRegressor\n",
    "from sklearn.model_selection import cross_val_score, train_test_split\n",
    "from pprint import pprint\n",
    "from sklearn.model_selection import GridSearchCV, RandomizedSearchCV\n",
    "import numpy as np\n",
    "from sklearn.metrics import roc_auc_score, accuracy_score, fbeta_score, r2_score, mean_squared_error\n",
    "from sklearn.metrics import (confusion_matrix, precision_recall_curve, auc,\n",
    "                             roc_curve, recall_score, classification_report, f1_score,\n",
    "                             precision_recall_fscore_support)\n",
    "from sklearn.tree import DecisionTreeClassifier, DecisionTreeRegressor\n",
    "from sklearn.ensemble import RandomForestRegressor, AdaBoostRegressor, GradientBoostingRegressor\n",
    "import matplotlib.pyplot as plt\n",
    "import timeit\n",
    "from IPython.display import Image  \n",
    "from sklearn.tree import export_graphviz\n",
    "from sklearn import linear_model, tree\n",
    "from sklearn.pipeline import Pipeline\n",
    "from sklearn.impute import SimpleImputer\n",
    "from sklearn.preprocessing import StandardScaler, OneHotEncoder\n",
    "from sklearn.linear_model import Ridge, Lasso\n",
    "#Read the excel file\n",
    "#df = pd.read_csv(\"model_db.csv\")\n",
    "df = pd.read_excel(\"condensed_file.xlsx\")\n",
    "\n",
    "\n",
    "\n",
    "#Seperate the predictors and the target variable\n",
    "X = df.drop(['salary_in_usd'], axis = 1)\n",
    "y = df.salary_in_usd\n",
    "#Split the Data into test and train set\n",
    "x_train,x_test,y_train,y_test=train_test_split(X,y,test_size=0.2,random_state=123)\n",
    "#Model 1 XGBoost Regressor\n",
    "# XGBoost Regressor and set its hyperparameters\n",
    "xgboost_model = XGBRegressor(max_depth=5, learning_rate=0.1, n_estimators=30, random_state=123)\n",
    "# Train (fit) the XGBoost model on the training data\n",
    "xgboost_model.fit(x_train, y_train)\n",
    "# Make predictions on the training and test data using the trained XGBoost model\n",
    "y_train_pred = xgboost_model.predict(x_train)\n",
    "y_test_pred = xgboost_model.predict(x_test)\n",
    "# Evaluate the model's performance using R-squared and RMSE for training set\n",
    "r2_train = r2_score(y_train, y_train_pred)\n",
    "rmse_train = np.sqrt(mean_squared_error(y_train, y_train_pred))\n",
    "# Evaluate the model's performance using R-squared and RMSE for test set\n",
    "r2_test = r2_score(y_test, y_test_pred)\n",
    "rmse_test = np.sqrt(mean_squared_error(y_test, y_test_pred))\n",
    "print(\"XGBoost Model Evaluation:\")\n",
    "print(\"Training Set R-squared:\", r2_train)\n",
    "print(\"Training Set RMSE:\", rmse_train)\n",
    "print(\"Test Set R-squared:\", r2_test)\n",
    "print(\"Test Set RMSE:\", rmse_test)\n",
    "plt.scatter(y_test, y_test_pred)\n",
    "\n",
    "\n",
    "\n",
    "\n",
    "\n",
    "\n",
    "# Model 2- KNN\n",
    "# Create an instance of the K-Nearest Neighbors Regressor and set its hyperparameters\n",
    "knn_model = KNeighborsRegressor(n_neighbors=21, weights='distance')\n",
    "# Train (fit) the KNN model on the training data\n",
    "knn_model.fit(x_train, y_train)\n",
    "# Make predictions on the training and test data using the trained KNN model\n",
    "y_train_pred = knn_model.predict(x_train)\n",
    "y_test_pred = knn_model.predict(x_test)\n",
    "# Evaluate the model's performance using R-squared and RMSE for training set\n",
    "r2_train = r2_score(y_train, y_train_pred)\n",
    "rmse_train = np.sqrt(mean_squared_error(y_train, y_train_pred))\n",
    "# Evaluate the model's performance using R-squared and RMSE for test set\n",
    "r2_test = r2_score(y_test, y_test_pred)\n",
    "rmse_test = np.sqrt(mean_squared_error(y_test, y_test_pred))\n",
    "print(\"K-Nearest Neighbors (KNN) Model Evaluation:\")\n",
    "print(\"Training Set R-squared:\", r2_train)\n",
    "print(\"Training Set RMSE:\", rmse_train)\n",
    "print(\"Test Set R-squared:\", r2_test)\n",
    "print(\"Test Set RMSE:\", rmse_test)\n",
    "\n"
   ]
  },
  {
   "cell_type": "code",
   "execution_count": null,
   "metadata": {},
   "outputs": [],
   "source": [
    "# Get feature importances from the trained XGBoost model\n",
    "importance_scores = xgboost_model.feature_importances_\n",
    "# Get the names of the features\n",
    "feature_names = X.columns\n",
    "# Create a DataFrame to hold the feature names and their corresponding importance scores\n",
    "feature_importance_df = pd.DataFrame({'Feature': feature_names, 'Importance': importance_scores})\n",
    "# Sort the features by their importance score in descending order\n",
    "feature_importance_df = feature_importance_df.sort_values(by='Importance', ascending=False)\n",
    "# Plot the feature importance scores\n",
    "plt.figure(figsize=(16, 12))\n",
    "plt.bar(feature_importance_df['Feature'], feature_importance_df['Importance'])\n",
    "plt.xticks(rotation=45)\n",
    "plt.xlabel('Features')\n",
    "plt.ylabel('Importance Score')\n",
    "plt.title('Feature Importance (XGBoost Model)')\n",
    "plt.tight_layout()\n",
    "plt.show()"
   ]
  },
  {
   "cell_type": "markdown",
   "metadata": {},
   "source": [
    "# Linear Regression, Ridge and Random Forest"
   ]
  },
  {
   "cell_type": "code",
   "execution_count": null,
   "metadata": {},
   "outputs": [],
   "source": [
    "#######Linear Regression#########\n",
    "X = df.drop(['salary_in_usd'], axis=1)\n",
    "X_drop_p_value = df.drop(['salary_in_usd',\n",
    "             'experience_level_2. Mid_Intermediate_level',\n",
    "             'employment_type_Freelancer',\n",
    "             'employment_type_Part_Time',\n",
    "             'job_title_Data Engineer',\n",
    "             'job_title_Data Scientist',\n",
    "             'job_title_Others',\n",
    "             'salary_currency_EUR',\n",
    "             'salary_currency_GBP',\n",
    "             'salary_currency_INR',\n",
    "             'country_employee_residence_India',\n",
    "             'country_employee_residence_Others',\n",
    "             'country_employee_residence_Spain',\n",
    "             'country_employee_residence_United Kingdom of Great Britain and Northern Ireland',\n",
    "             'country_employee_residence_United States of America',\n",
    "             'country_company_location_Others',\n",
    "             'country_company_location_Spain',\n",
    "             'country_company_location_United Kingdom of Great Britain and Northern Ireland',\n",
    "             'country_company_location_United States of America',\n",
    "              ], axis=1)\n",
    "\n",
    "Y = df['salary_in_usd']\n",
    "\n",
    "def linearRegression(X, Y):\n",
    "    X_train, X_test, Y_train, Y_test = train_test_split(X, Y, test_size=0.2, random_state=42)\n",
    "    linear_model = LinearRegression()\n",
    "    linear_model.fit(X_train, Y_train)\n",
    "    Y_pred = linear_model.predict(X_test)\n",
    "\n",
    "    X_train = sm.add_constant(X_train)\n",
    "    model_sm = sm.OLS(Y_train, X_train).fit()\n",
    "    print(model_sm.summary())\n",
    "    return Y_pred, Y_test\n",
    "\n",
    "Y_pred_lm, Y_test_lm = linearRegression(X,Y)\n",
    "\n",
    "Y_pred_drop, Y_test_drop = linearRegression(X_drop_p_value,Y)\n",
    "\n",
    "plt.figure(figsize=(6, 4))\n",
    "plt.scatter(Y_pred_lm, Y_test_lm)\n",
    "plt.plot([Y_test_lm.min(), Y_test_lm.max()], [Y_test_lm.min(), Y_test_lm.max()], '--', color='r', label='Perfect Prediction')\n",
    "plt.xlabel('Actual Salary (USD)')\n",
    "plt.ylabel('Predicted Salary (USD)')\n",
    "plt.title('Actual vs Predicted Salary for linear regression')\n",
    "plt.show()\n",
    "########Ridge regression##########\n",
    "ridge_model = Ridge(alpha=46.416)\n",
    "ridge_model.fit(x_train, y_train)\n",
    "Y_pred_ridge = ridge_model.predict(x_test)\n",
    "\n",
    "########Random Forest##########\n",
    "rf_classifier = RandomForestRegressor(n_estimators=100 , max_depth=10, random_state=42)\n",
    "rf_classifier.fit(x_train, y_train)\n",
    "Y_pred_forest = rf_classifier.predict(x_test)\n",
    "\n",
    "plt.figure(figsize=(6, 4))\n",
    "plt.scatter(Y_pred_forest, y_test)\n",
    "plt.plot([y_test.min(), y_test.max()], [y_test.min(), y_test.max()], '--', color='r', label='Perfect Prediction')\n",
    "plt.xlabel('Actual Salary (USD)')\n",
    "plt.ylabel('Predicted Salary (USD)')\n",
    "plt.title('Actual vs Predicted Salary for Random forest')\n",
    "plt.show()\n",
    "\n",
    "\n",
    "rmse_lm = math.sqrt(mean_squared_error(Y_test_lm, Y_pred_lm))\n",
    "print(\"Linear Regression's RMSE before dropping variables:\", rmse_lm)\n",
    "rmse_lm_p = math.sqrt(mean_squared_error(Y_test_drop, Y_pred_drop))\n",
    "print(\"Linear Regression's RMSE after dropping variables based on p-value:\", rmse_lm_p, \"\\n\")\n",
    "\n",
    "rmse_rm = math.sqrt(mean_squared_error(y_test, Y_pred_ridge))\n",
    "print(\"Ridge Regression's RMSE:\", rmse_rm)\n",
    "r_squared_rm = r2_score(y_test, Y_pred_ridge)\n",
    "print(\"Ridge Regression's R-squared:\", r_squared_rm,\"\\n\")\n",
    "\n",
    "rmse_forest = math.sqrt(mean_squared_error(y_test, Y_pred_forest))\n",
    "print(\"Random Forest RMSE:\", rmse_forest)\n",
    "r_squared_forest = r2_score(y_test, Y_pred_forest)\n",
    "print(\"Random Forest R-squared:\", r_squared_forest)\n",
    "\n"
   ]
  },
  {
   "cell_type": "code",
   "execution_count": null,
   "metadata": {},
   "outputs": [],
   "source": [
    "# Create a new DataFrame with predictor variables for the individual\n",
    "new_data = pd.DataFrame({\n",
    "    'work_year': [2023], \n",
    "    'remote_ratio': [1], \n",
    "    'experience_level_2. Mid_Intermediate_level': [1], \n",
    "    'experience_level_3. Senior_level': [0],\n",
    "    'experience_level_4. Executive_level': [0],\n",
    "    'employment_type_Freelancer': [0],\n",
    "    'employment_type_Full_Time': [1],\n",
    "    'employment_type_Part_Time': [0],\n",
    "    'job_title_Data Analyst': [0],\n",
    "    'job_title_Data Engineer': [0],\n",
    "    'job_title_Data Scientist': [1],\n",
    "    'job_title_Machine Learning Engineer': [0],\n",
    "    'job_title_Others': [0],\n",
    "    'salary_currency_EUR': [0],\n",
    "    'salary_currency_GBP': [0],\n",
    "    'salary_currency_INR': [0],\n",
    "    'salary_currency_Others': [0],\n",
    "    'salary_currency_USD': [1],\n",
    "    'company_size_M': [1],\n",
    "    'company_size_S': [0],\n",
    "    'country_employee_residence_India': [0],\n",
    "    'country_employee_residence_Others': [0],\n",
    "    'country_employee_residence_Spain': [0],\n",
    "    'country_employee_residence_United Kingdom of Great Britain and Northern Ireland': [0],\n",
    "    'country_employee_residence_United States of America': [1],\n",
    "    'country_company_location_India': [0],\n",
    "    'country_company_location_Others': [0],\n",
    "    'country_company_location_Spain': [0],\n",
    "    'country_company_location_United Kingdom of Great Britain and Northern Ireland': [0],\n",
    "    'country_company_location_United States of America': [1]\n",
    "})\n",
    "# Make predictions using the trained XGBoost model\n",
    "predicted_salary = xgboost_model.predict(new_data)\n",
    "print(\"Predicted Salary:\", predicted_salary[0])"
   ]
  }
 ],
 "metadata": {
  "kernelspec": {
   "display_name": "Python 3",
   "language": "python",
   "name": "python3"
  },
  "language_info": {
   "codemirror_mode": {
    "name": "ipython",
    "version": 3
   },
   "file_extension": ".py",
   "mimetype": "text/x-python",
   "name": "python",
   "nbconvert_exporter": "python",
   "pygments_lexer": "ipython3",
   "version": "3.8.8"
  },
  "vscode": {
   "interpreter": {
    "hash": "9562bc8622708bd90ca479563e40ed757c4e4b346c87587c0501b8cbe9586c2f"
   }
  }
 },
 "nbformat": 4,
 "nbformat_minor": 2
}
